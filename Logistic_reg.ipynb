{
  "nbformat": 4,
  "nbformat_minor": 0,
  "metadata": {
    "colab": {
      "provenance": []
    },
    "kernelspec": {
      "name": "python3",
      "display_name": "Python 3"
    },
    "language_info": {
      "name": "python"
    }
  },
  "cells": [
    {
      "cell_type": "code",
      "execution_count": null,
      "metadata": {
        "id": "oN4TNLrSoX2a"
      },
      "outputs": [],
      "source": [
        "import pandas as pd\n",
        "import numpy as np\n",
        "\n",
        "from sklearn.model_selection import train_test_split\n",
        "import seaborn as sns\n",
        "from sklearn.preprocessing import StandardScaler"
      ]
    },
    {
      "cell_type": "code",
      "source": [
        "from google.colab import drive\n",
        "drive.mount('/content/drive')"
      ],
      "metadata": {
        "colab": {
          "base_uri": "https://localhost:8080/"
        },
        "id": "Kh6C8M5HqjI5",
        "outputId": "af3ad70f-340f-4eb3-a295-2dafe7ceee1b"
      },
      "execution_count": null,
      "outputs": [
        {
          "output_type": "stream",
          "name": "stdout",
          "text": [
            "Drive already mounted at /content/drive; to attempt to forcibly remount, call drive.mount(\"/content/drive\", force_remount=True).\n"
          ]
        }
      ]
    },
    {
      "cell_type": "code",
      "source": [
        "df = pd.read_csv('/content/drive/MyDrive/Accident_Data_onehot_encoded.csv')"
      ],
      "metadata": {
        "id": "Ubi8r_GaoehP"
      },
      "execution_count": null,
      "outputs": []
    },
    {
      "cell_type": "code",
      "source": [
        "df.shape"
      ],
      "metadata": {
        "colab": {
          "base_uri": "https://localhost:8080/"
        },
        "id": "iYvuqHYsok6g",
        "outputId": "ac132d66-a2f7-42e1-fed3-ecef6e7ebef2"
      },
      "execution_count": null,
      "outputs": [
        {
          "output_type": "execute_result",
          "data": {
            "text/plain": [
              "(635704, 26)"
            ]
          },
          "metadata": {},
          "execution_count": 4
        }
      ]
    },
    {
      "cell_type": "code",
      "source": [
        "df.head()"
      ],
      "metadata": {
        "colab": {
          "base_uri": "https://localhost:8080/",
          "height": 255
        },
        "id": "-sm4U2U3ol7S",
        "outputId": "f27d4ce7-1a8a-436d-c402-7d8f3a07f681"
      },
      "execution_count": null,
      "outputs": [
        {
          "output_type": "execute_result",
          "data": {
            "text/plain": [
              "   Accident_Severity   Latitude  Longitude  Number_of_Casualties  \\\n",
              "0                  0  51.506187  -0.209082                     1   \n",
              "1                  0  51.495029  -0.173647                     1   \n",
              "2                  0  51.495478  -0.202731                     1   \n",
              "3                  0  51.497750  -0.192556                     2   \n",
              "4                  0  51.501405  -0.161577                     1   \n",
              "\n",
              "   Number_of_Vehicles  Month  Year  Light_Conditions_Darkness  \\\n",
              "0                   2      6  2019                       True   \n",
              "1                   2      7  2019                      False   \n",
              "2                   4      8  2019                      False   \n",
              "3                   3      9  2019                      False   \n",
              "4                   2      9  2019                      False   \n",
              "\n",
              "   Light_Conditions_Daylight  Road_Surface_Conditions_Dry  ...  \\\n",
              "0                      False                         True  ...   \n",
              "1                       True                        False  ...   \n",
              "2                       True                         True  ...   \n",
              "3                       True                         True  ...   \n",
              "4                       True                         True  ...   \n",
              "\n",
              "   Urban_or_Rural_Area_Rural  Urban_or_Rural_Area_Urban  \\\n",
              "0                      False                       True   \n",
              "1                      False                       True   \n",
              "2                      False                       True   \n",
              "3                      False                       True   \n",
              "4                      False                       True   \n",
              "\n",
              "   Weather_Conditions_Fine  Weather_Conditions_Raining  \\\n",
              "0                     True                       False   \n",
              "1                    False                        True   \n",
              "2                     True                       False   \n",
              "3                     True                       False   \n",
              "4                     True                       False   \n",
              "\n",
              "   Weather_Conditions_Snowing/Fog_or_mist  \\\n",
              "0                                   False   \n",
              "1                                   False   \n",
              "2                                   False   \n",
              "3                                   False   \n",
              "4                                   False   \n",
              "\n",
              "   Vehicle_Type_Agricultural_or_Other_heavy_vehicle  Vehicle_Type_Car  \\\n",
              "0                                             False              True   \n",
              "1                                             False              True   \n",
              "2                                             False             False   \n",
              "3                                             False              True   \n",
              "4                                             False             False   \n",
              "\n",
              "   Vehicle_Type_Goods_Carrier  Vehicle_Type_Motorcycle  \\\n",
              "0                       False                    False   \n",
              "1                       False                    False   \n",
              "2                       False                    False   \n",
              "3                       False                    False   \n",
              "4                        True                    False   \n",
              "\n",
              "   Vehicle_Type_Passenger_Vehicles(Minibus_or_Bus)  \n",
              "0                                            False  \n",
              "1                                            False  \n",
              "2                                             True  \n",
              "3                                            False  \n",
              "4                                            False  \n",
              "\n",
              "[5 rows x 26 columns]"
            ],
            "text/html": [
              "\n",
              "  <div id=\"df-650a5e7d-23f4-4baa-8d97-bb0511938b3c\" class=\"colab-df-container\">\n",
              "    <div>\n",
              "<style scoped>\n",
              "    .dataframe tbody tr th:only-of-type {\n",
              "        vertical-align: middle;\n",
              "    }\n",
              "\n",
              "    .dataframe tbody tr th {\n",
              "        vertical-align: top;\n",
              "    }\n",
              "\n",
              "    .dataframe thead th {\n",
              "        text-align: right;\n",
              "    }\n",
              "</style>\n",
              "<table border=\"1\" class=\"dataframe\">\n",
              "  <thead>\n",
              "    <tr style=\"text-align: right;\">\n",
              "      <th></th>\n",
              "      <th>Accident_Severity</th>\n",
              "      <th>Latitude</th>\n",
              "      <th>Longitude</th>\n",
              "      <th>Number_of_Casualties</th>\n",
              "      <th>Number_of_Vehicles</th>\n",
              "      <th>Month</th>\n",
              "      <th>Year</th>\n",
              "      <th>Light_Conditions_Darkness</th>\n",
              "      <th>Light_Conditions_Daylight</th>\n",
              "      <th>Road_Surface_Conditions_Dry</th>\n",
              "      <th>...</th>\n",
              "      <th>Urban_or_Rural_Area_Rural</th>\n",
              "      <th>Urban_or_Rural_Area_Urban</th>\n",
              "      <th>Weather_Conditions_Fine</th>\n",
              "      <th>Weather_Conditions_Raining</th>\n",
              "      <th>Weather_Conditions_Snowing/Fog_or_mist</th>\n",
              "      <th>Vehicle_Type_Agricultural_or_Other_heavy_vehicle</th>\n",
              "      <th>Vehicle_Type_Car</th>\n",
              "      <th>Vehicle_Type_Goods_Carrier</th>\n",
              "      <th>Vehicle_Type_Motorcycle</th>\n",
              "      <th>Vehicle_Type_Passenger_Vehicles(Minibus_or_Bus)</th>\n",
              "    </tr>\n",
              "  </thead>\n",
              "  <tbody>\n",
              "    <tr>\n",
              "      <th>0</th>\n",
              "      <td>0</td>\n",
              "      <td>51.506187</td>\n",
              "      <td>-0.209082</td>\n",
              "      <td>1</td>\n",
              "      <td>2</td>\n",
              "      <td>6</td>\n",
              "      <td>2019</td>\n",
              "      <td>True</td>\n",
              "      <td>False</td>\n",
              "      <td>True</td>\n",
              "      <td>...</td>\n",
              "      <td>False</td>\n",
              "      <td>True</td>\n",
              "      <td>True</td>\n",
              "      <td>False</td>\n",
              "      <td>False</td>\n",
              "      <td>False</td>\n",
              "      <td>True</td>\n",
              "      <td>False</td>\n",
              "      <td>False</td>\n",
              "      <td>False</td>\n",
              "    </tr>\n",
              "    <tr>\n",
              "      <th>1</th>\n",
              "      <td>0</td>\n",
              "      <td>51.495029</td>\n",
              "      <td>-0.173647</td>\n",
              "      <td>1</td>\n",
              "      <td>2</td>\n",
              "      <td>7</td>\n",
              "      <td>2019</td>\n",
              "      <td>False</td>\n",
              "      <td>True</td>\n",
              "      <td>False</td>\n",
              "      <td>...</td>\n",
              "      <td>False</td>\n",
              "      <td>True</td>\n",
              "      <td>False</td>\n",
              "      <td>True</td>\n",
              "      <td>False</td>\n",
              "      <td>False</td>\n",
              "      <td>True</td>\n",
              "      <td>False</td>\n",
              "      <td>False</td>\n",
              "      <td>False</td>\n",
              "    </tr>\n",
              "    <tr>\n",
              "      <th>2</th>\n",
              "      <td>0</td>\n",
              "      <td>51.495478</td>\n",
              "      <td>-0.202731</td>\n",
              "      <td>1</td>\n",
              "      <td>4</td>\n",
              "      <td>8</td>\n",
              "      <td>2019</td>\n",
              "      <td>False</td>\n",
              "      <td>True</td>\n",
              "      <td>True</td>\n",
              "      <td>...</td>\n",
              "      <td>False</td>\n",
              "      <td>True</td>\n",
              "      <td>True</td>\n",
              "      <td>False</td>\n",
              "      <td>False</td>\n",
              "      <td>False</td>\n",
              "      <td>False</td>\n",
              "      <td>False</td>\n",
              "      <td>False</td>\n",
              "      <td>True</td>\n",
              "    </tr>\n",
              "    <tr>\n",
              "      <th>3</th>\n",
              "      <td>0</td>\n",
              "      <td>51.497750</td>\n",
              "      <td>-0.192556</td>\n",
              "      <td>2</td>\n",
              "      <td>3</td>\n",
              "      <td>9</td>\n",
              "      <td>2019</td>\n",
              "      <td>False</td>\n",
              "      <td>True</td>\n",
              "      <td>True</td>\n",
              "      <td>...</td>\n",
              "      <td>False</td>\n",
              "      <td>True</td>\n",
              "      <td>True</td>\n",
              "      <td>False</td>\n",
              "      <td>False</td>\n",
              "      <td>False</td>\n",
              "      <td>True</td>\n",
              "      <td>False</td>\n",
              "      <td>False</td>\n",
              "      <td>False</td>\n",
              "    </tr>\n",
              "    <tr>\n",
              "      <th>4</th>\n",
              "      <td>0</td>\n",
              "      <td>51.501405</td>\n",
              "      <td>-0.161577</td>\n",
              "      <td>1</td>\n",
              "      <td>2</td>\n",
              "      <td>9</td>\n",
              "      <td>2019</td>\n",
              "      <td>False</td>\n",
              "      <td>True</td>\n",
              "      <td>True</td>\n",
              "      <td>...</td>\n",
              "      <td>False</td>\n",
              "      <td>True</td>\n",
              "      <td>True</td>\n",
              "      <td>False</td>\n",
              "      <td>False</td>\n",
              "      <td>False</td>\n",
              "      <td>False</td>\n",
              "      <td>True</td>\n",
              "      <td>False</td>\n",
              "      <td>False</td>\n",
              "    </tr>\n",
              "  </tbody>\n",
              "</table>\n",
              "<p>5 rows × 26 columns</p>\n",
              "</div>\n",
              "    <div class=\"colab-df-buttons\">\n",
              "\n",
              "  <div class=\"colab-df-container\">\n",
              "    <button class=\"colab-df-convert\" onclick=\"convertToInteractive('df-650a5e7d-23f4-4baa-8d97-bb0511938b3c')\"\n",
              "            title=\"Convert this dataframe to an interactive table.\"\n",
              "            style=\"display:none;\">\n",
              "\n",
              "  <svg xmlns=\"http://www.w3.org/2000/svg\" height=\"24px\" viewBox=\"0 -960 960 960\">\n",
              "    <path d=\"M120-120v-720h720v720H120Zm60-500h600v-160H180v160Zm220 220h160v-160H400v160Zm0 220h160v-160H400v160ZM180-400h160v-160H180v160Zm440 0h160v-160H620v160ZM180-180h160v-160H180v160Zm440 0h160v-160H620v160Z\"/>\n",
              "  </svg>\n",
              "    </button>\n",
              "\n",
              "  <style>\n",
              "    .colab-df-container {\n",
              "      display:flex;\n",
              "      gap: 12px;\n",
              "    }\n",
              "\n",
              "    .colab-df-convert {\n",
              "      background-color: #E8F0FE;\n",
              "      border: none;\n",
              "      border-radius: 50%;\n",
              "      cursor: pointer;\n",
              "      display: none;\n",
              "      fill: #1967D2;\n",
              "      height: 32px;\n",
              "      padding: 0 0 0 0;\n",
              "      width: 32px;\n",
              "    }\n",
              "\n",
              "    .colab-df-convert:hover {\n",
              "      background-color: #E2EBFA;\n",
              "      box-shadow: 0px 1px 2px rgba(60, 64, 67, 0.3), 0px 1px 3px 1px rgba(60, 64, 67, 0.15);\n",
              "      fill: #174EA6;\n",
              "    }\n",
              "\n",
              "    .colab-df-buttons div {\n",
              "      margin-bottom: 4px;\n",
              "    }\n",
              "\n",
              "    [theme=dark] .colab-df-convert {\n",
              "      background-color: #3B4455;\n",
              "      fill: #D2E3FC;\n",
              "    }\n",
              "\n",
              "    [theme=dark] .colab-df-convert:hover {\n",
              "      background-color: #434B5C;\n",
              "      box-shadow: 0px 1px 3px 1px rgba(0, 0, 0, 0.15);\n",
              "      filter: drop-shadow(0px 1px 2px rgba(0, 0, 0, 0.3));\n",
              "      fill: #FFFFFF;\n",
              "    }\n",
              "  </style>\n",
              "\n",
              "    <script>\n",
              "      const buttonEl =\n",
              "        document.querySelector('#df-650a5e7d-23f4-4baa-8d97-bb0511938b3c button.colab-df-convert');\n",
              "      buttonEl.style.display =\n",
              "        google.colab.kernel.accessAllowed ? 'block' : 'none';\n",
              "\n",
              "      async function convertToInteractive(key) {\n",
              "        const element = document.querySelector('#df-650a5e7d-23f4-4baa-8d97-bb0511938b3c');\n",
              "        const dataTable =\n",
              "          await google.colab.kernel.invokeFunction('convertToInteractive',\n",
              "                                                    [key], {});\n",
              "        if (!dataTable) return;\n",
              "\n",
              "        const docLinkHtml = 'Like what you see? Visit the ' +\n",
              "          '<a target=\"_blank\" href=https://colab.research.google.com/notebooks/data_table.ipynb>data table notebook</a>'\n",
              "          + ' to learn more about interactive tables.';\n",
              "        element.innerHTML = '';\n",
              "        dataTable['output_type'] = 'display_data';\n",
              "        await google.colab.output.renderOutput(dataTable, element);\n",
              "        const docLink = document.createElement('div');\n",
              "        docLink.innerHTML = docLinkHtml;\n",
              "        element.appendChild(docLink);\n",
              "      }\n",
              "    </script>\n",
              "  </div>\n",
              "\n",
              "\n",
              "<div id=\"df-574db758-dfe2-413f-85e9-1becb5c73825\">\n",
              "  <button class=\"colab-df-quickchart\" onclick=\"quickchart('df-574db758-dfe2-413f-85e9-1becb5c73825')\"\n",
              "            title=\"Suggest charts\"\n",
              "            style=\"display:none;\">\n",
              "\n",
              "<svg xmlns=\"http://www.w3.org/2000/svg\" height=\"24px\"viewBox=\"0 0 24 24\"\n",
              "     width=\"24px\">\n",
              "    <g>\n",
              "        <path d=\"M19 3H5c-1.1 0-2 .9-2 2v14c0 1.1.9 2 2 2h14c1.1 0 2-.9 2-2V5c0-1.1-.9-2-2-2zM9 17H7v-7h2v7zm4 0h-2V7h2v10zm4 0h-2v-4h2v4z\"/>\n",
              "    </g>\n",
              "</svg>\n",
              "  </button>\n",
              "\n",
              "<style>\n",
              "  .colab-df-quickchart {\n",
              "      --bg-color: #E8F0FE;\n",
              "      --fill-color: #1967D2;\n",
              "      --hover-bg-color: #E2EBFA;\n",
              "      --hover-fill-color: #174EA6;\n",
              "      --disabled-fill-color: #AAA;\n",
              "      --disabled-bg-color: #DDD;\n",
              "  }\n",
              "\n",
              "  [theme=dark] .colab-df-quickchart {\n",
              "      --bg-color: #3B4455;\n",
              "      --fill-color: #D2E3FC;\n",
              "      --hover-bg-color: #434B5C;\n",
              "      --hover-fill-color: #FFFFFF;\n",
              "      --disabled-bg-color: #3B4455;\n",
              "      --disabled-fill-color: #666;\n",
              "  }\n",
              "\n",
              "  .colab-df-quickchart {\n",
              "    background-color: var(--bg-color);\n",
              "    border: none;\n",
              "    border-radius: 50%;\n",
              "    cursor: pointer;\n",
              "    display: none;\n",
              "    fill: var(--fill-color);\n",
              "    height: 32px;\n",
              "    padding: 0;\n",
              "    width: 32px;\n",
              "  }\n",
              "\n",
              "  .colab-df-quickchart:hover {\n",
              "    background-color: var(--hover-bg-color);\n",
              "    box-shadow: 0 1px 2px rgba(60, 64, 67, 0.3), 0 1px 3px 1px rgba(60, 64, 67, 0.15);\n",
              "    fill: var(--button-hover-fill-color);\n",
              "  }\n",
              "\n",
              "  .colab-df-quickchart-complete:disabled,\n",
              "  .colab-df-quickchart-complete:disabled:hover {\n",
              "    background-color: var(--disabled-bg-color);\n",
              "    fill: var(--disabled-fill-color);\n",
              "    box-shadow: none;\n",
              "  }\n",
              "\n",
              "  .colab-df-spinner {\n",
              "    border: 2px solid var(--fill-color);\n",
              "    border-color: transparent;\n",
              "    border-bottom-color: var(--fill-color);\n",
              "    animation:\n",
              "      spin 1s steps(1) infinite;\n",
              "  }\n",
              "\n",
              "  @keyframes spin {\n",
              "    0% {\n",
              "      border-color: transparent;\n",
              "      border-bottom-color: var(--fill-color);\n",
              "      border-left-color: var(--fill-color);\n",
              "    }\n",
              "    20% {\n",
              "      border-color: transparent;\n",
              "      border-left-color: var(--fill-color);\n",
              "      border-top-color: var(--fill-color);\n",
              "    }\n",
              "    30% {\n",
              "      border-color: transparent;\n",
              "      border-left-color: var(--fill-color);\n",
              "      border-top-color: var(--fill-color);\n",
              "      border-right-color: var(--fill-color);\n",
              "    }\n",
              "    40% {\n",
              "      border-color: transparent;\n",
              "      border-right-color: var(--fill-color);\n",
              "      border-top-color: var(--fill-color);\n",
              "    }\n",
              "    60% {\n",
              "      border-color: transparent;\n",
              "      border-right-color: var(--fill-color);\n",
              "    }\n",
              "    80% {\n",
              "      border-color: transparent;\n",
              "      border-right-color: var(--fill-color);\n",
              "      border-bottom-color: var(--fill-color);\n",
              "    }\n",
              "    90% {\n",
              "      border-color: transparent;\n",
              "      border-bottom-color: var(--fill-color);\n",
              "    }\n",
              "  }\n",
              "</style>\n",
              "\n",
              "  <script>\n",
              "    async function quickchart(key) {\n",
              "      const quickchartButtonEl =\n",
              "        document.querySelector('#' + key + ' button');\n",
              "      quickchartButtonEl.disabled = true;  // To prevent multiple clicks.\n",
              "      quickchartButtonEl.classList.add('colab-df-spinner');\n",
              "      try {\n",
              "        const charts = await google.colab.kernel.invokeFunction(\n",
              "            'suggestCharts', [key], {});\n",
              "      } catch (error) {\n",
              "        console.error('Error during call to suggestCharts:', error);\n",
              "      }\n",
              "      quickchartButtonEl.classList.remove('colab-df-spinner');\n",
              "      quickchartButtonEl.classList.add('colab-df-quickchart-complete');\n",
              "    }\n",
              "    (() => {\n",
              "      let quickchartButtonEl =\n",
              "        document.querySelector('#df-574db758-dfe2-413f-85e9-1becb5c73825 button');\n",
              "      quickchartButtonEl.style.display =\n",
              "        google.colab.kernel.accessAllowed ? 'block' : 'none';\n",
              "    })();\n",
              "  </script>\n",
              "</div>\n",
              "\n",
              "    </div>\n",
              "  </div>\n"
            ],
            "application/vnd.google.colaboratory.intrinsic+json": {
              "type": "dataframe",
              "variable_name": "df"
            }
          },
          "metadata": {},
          "execution_count": 5
        }
      ]
    },
    {
      "cell_type": "code",
      "source": [
        "df.info()"
      ],
      "metadata": {
        "colab": {
          "base_uri": "https://localhost:8080/"
        },
        "id": "T9H5al2IosHE",
        "outputId": "2aca4ccf-8af3-4409-e581-65bf7968a584"
      },
      "execution_count": null,
      "outputs": [
        {
          "output_type": "stream",
          "name": "stdout",
          "text": [
            "<class 'pandas.core.frame.DataFrame'>\n",
            "RangeIndex: 635704 entries, 0 to 635703\n",
            "Data columns (total 26 columns):\n",
            " #   Column                                            Non-Null Count   Dtype  \n",
            "---  ------                                            --------------   -----  \n",
            " 0   Accident_Severity                                 635704 non-null  int64  \n",
            " 1   Latitude                                          635704 non-null  float64\n",
            " 2   Longitude                                         635704 non-null  float64\n",
            " 3   Number_of_Casualties                              635704 non-null  int64  \n",
            " 4   Number_of_Vehicles                                635704 non-null  int64  \n",
            " 5   Month                                             635704 non-null  int64  \n",
            " 6   Year                                              635704 non-null  int64  \n",
            " 7   Light_Conditions_Darkness                         635704 non-null  bool   \n",
            " 8   Light_Conditions_Daylight                         635704 non-null  bool   \n",
            " 9   Road_Surface_Conditions_Dry                       635704 non-null  bool   \n",
            " 10  Road_Surface_Conditions_Frost_or_Snow             635704 non-null  bool   \n",
            " 11  Road_Surface_Conditions_Wet_or_damp               635704 non-null  bool   \n",
            " 12  Road_Type_Dual_carriageway                        635704 non-null  bool   \n",
            " 13  Road_Type_One_way_street                          635704 non-null  bool   \n",
            " 14  Road_Type_Roundabout                              635704 non-null  bool   \n",
            " 15  Road_Type_Single_carriageway                      635704 non-null  bool   \n",
            " 16  Urban_or_Rural_Area_Rural                         635704 non-null  bool   \n",
            " 17  Urban_or_Rural_Area_Urban                         635704 non-null  bool   \n",
            " 18  Weather_Conditions_Fine                           635704 non-null  bool   \n",
            " 19  Weather_Conditions_Raining                        635704 non-null  bool   \n",
            " 20  Weather_Conditions_Snowing/Fog_or_mist            635704 non-null  bool   \n",
            " 21  Vehicle_Type_Agricultural_or_Other_heavy_vehicle  635704 non-null  bool   \n",
            " 22  Vehicle_Type_Car                                  635704 non-null  bool   \n",
            " 23  Vehicle_Type_Goods_Carrier                        635704 non-null  bool   \n",
            " 24  Vehicle_Type_Motorcycle                           635704 non-null  bool   \n",
            " 25  Vehicle_Type_Passenger_Vehicles(Minibus_or_Bus)   635704 non-null  bool   \n",
            "dtypes: bool(19), float64(2), int64(5)\n",
            "memory usage: 45.5 MB\n"
          ]
        }
      ]
    },
    {
      "cell_type": "markdown",
      "source": [
        "Without Sampling(smote/Random)"
      ],
      "metadata": {
        "id": "IFnEypSko4ie"
      }
    },
    {
      "cell_type": "code",
      "source": [
        "target = 'Accident_Severity'"
      ],
      "metadata": {
        "id": "SzuxXqSwooHC"
      },
      "execution_count": null,
      "outputs": []
    },
    {
      "cell_type": "markdown",
      "source": [
        "Test/Train Split"
      ],
      "metadata": {
        "id": "ZjfbO4hzozki"
      }
    },
    {
      "cell_type": "code",
      "source": [
        "Y = df[target].copy()\n",
        "X = df.drop(columns=[target]).copy()"
      ],
      "metadata": {
        "id": "BuiFF5YYowpx"
      },
      "execution_count": null,
      "outputs": []
    },
    {
      "cell_type": "code",
      "source": [
        "X_train, X_test, Y_train, Y_test = train_test_split(X, Y, test_size=0.3, random_state=200)"
      ],
      "metadata": {
        "id": "yVM2-Yu8oyf1"
      },
      "execution_count": null,
      "outputs": []
    },
    {
      "cell_type": "code",
      "source": [
        "ax = sns.countplot(x=target, data=df)\n",
        "print(df[target].value_counts())"
      ],
      "metadata": {
        "colab": {
          "base_uri": "https://localhost:8080/",
          "height": 519
        },
        "id": "qcLo1CVlpIYc",
        "outputId": "6f70e765-b82a-4962-f2d5-28ad9ceec76c"
      },
      "execution_count": null,
      "outputs": [
        {
          "output_type": "stream",
          "name": "stdout",
          "text": [
            "Accident_Severity\n",
            "1    541326\n",
            "0     94378\n",
            "Name: count, dtype: int64\n"
          ]
        },
        {
          "output_type": "display_data",
          "data": {
            "text/plain": [
              "<Figure size 640x480 with 1 Axes>"
            ],
            "image/png": "[encoded data removed]"
          },
          "metadata": {}
        }
      ]
    },
    {
      "cell_type": "code",
      "source": [
        "print('Slight',100* (540712/float(df.shape[0])))\n",
        "print('Fatal',100* (94309/float(df.shape[0])))"
      ],
      "metadata": {
        "colab": {
          "base_uri": "https://localhost:8080/"
        },
        "id": "m5v-EH9wrQgr",
        "outputId": "dfc66814-c98d-4fd0-e38e-2492febb2411"
      },
      "execution_count": null,
      "outputs": [
        {
          "output_type": "stream",
          "name": "stdout",
          "text": [
            "Slight 85.05719643104338\n",
            "Fatal 14.835363628355335\n"
          ]
        }
      ]
    },
    {
      "cell_type": "markdown",
      "source": [
        "\n",
        "Scaling of the X_train and X_test(independent variables) with fit_transform and transform methods respectively, we do not use fit method for test data as it introduces bias if used."
      ],
      "metadata": {
        "id": "re1HH-G7rXG3"
      }
    },
    {
      "cell_type": "code",
      "source": [
        "sc = StandardScaler()\n",
        "X_train = sc.fit_transform(X_train)\n",
        "X_test= sc.transform(X_test)"
      ],
      "metadata": {
        "id": "t-xZ1IC2rRC5"
      },
      "execution_count": null,
      "outputs": []
    },
    {
      "cell_type": "code",
      "source": [
        "from sklearn.linear_model import LogisticRegression\n",
        "from sklearn.pipeline import make_pipeline\n",
        "from sklearn.metrics import accuracy_score\n",
        "import warnings\n",
        "from sklearn.metrics import precision_score, recall_score, confusion_matrix\n",
        "from sklearn.metrics import f1_score, roc_auc_score, roc_curve\n",
        "from sklearn.model_selection import GridSearchCV\n",
        "from sklearn.utils import class_weight\n",
        "from sklearn.metrics import classification_report\n",
        "from matplotlib import pyplot as plt"
      ],
      "metadata": {
        "id": "gEA2NNJHrg3t"
      },
      "execution_count": null,
      "outputs": []
    },
    {
      "cell_type": "code",
      "source": [
        "def generate_model_report(y_actual, y_predicted):\n",
        "    print(\"Accuracy = \" , accuracy_score(y_actual, y_predicted))\n",
        "    print(\"Precision = \" ,precision_score(y_actual, y_predicted))\n",
        "    print(\"Recall = \" ,recall_score(y_actual, y_predicted))\n",
        "    print(\"F1 Score = \" ,f1_score(y_actual, y_predicted))"
      ],
      "metadata": {
        "id": "hhMDBdQmrrUb"
      },
      "execution_count": null,
      "outputs": []
    },
    {
      "cell_type": "code",
      "source": [
        "def generate_auc_roc_curve(clf, X_test):\n",
        "    y_pred_proba = clf.predict_proba(X_test)[:, 1]\n",
        "    fpr, tpr, thresholds = roc_curve(Y_test,  y_pred_proba)\n",
        "    auc = roc_auc_score(Y_test, y_pred_proba)\n",
        "    plt.plot(fpr,tpr,label=\"AUC ROC Curve with Area Under the curve =\"+str(auc))\n",
        "    plt.legend(loc=4)\n",
        "    plt.show()"
      ],
      "metadata": {
        "id": "Gu6f6Cv1rr_n"
      },
      "execution_count": null,
      "outputs": []
    },
    {
      "cell_type": "code",
      "source": [
        "clf = LogisticRegression(solver='saga').fit(X_train, Y_train)"
      ],
      "metadata": {
        "id": "g6uEPhWKrzwl"
      },
      "execution_count": null,
      "outputs": []
    },
    {
      "cell_type": "code",
      "source": [
        "Y_Test_Pred = clf.predict(X_test)"
      ],
      "metadata": {
        "id": "Q16vH1G_sLqC"
      },
      "execution_count": null,
      "outputs": []
    },
    {
      "cell_type": "code",
      "source": [
        "generate_model_report(Y_test, Y_Test_Pred)"
      ],
      "metadata": {
        "colab": {
          "base_uri": "https://localhost:8080/"
        },
        "id": "YIcZx0qbsOGh",
        "outputId": "3eb1dde4-1894-44f8-eff1-e900219c85df"
      },
      "execution_count": null,
      "outputs": [
        {
          "output_type": "stream",
          "name": "stdout",
          "text": [
            "Accuracy =  0.8523585301396871\n",
            "Precision =  0.852673182099705\n",
            "Recall =  0.9994585981383158\n",
            "F1 Score =  0.9202493605957011\n"
          ]
        }
      ]
    },
    {
      "cell_type": "code",
      "source": [
        "generate_auc_roc_curve(clf, X_test)"
      ],
      "metadata": {
        "colab": {
          "base_uri": "https://localhost:8080/",
          "height": 430
        },
        "id": "7JD4MqErsOkN",
        "outputId": "4349d863-dd25-463e-d45c-367f30bef4f9"
      },
      "execution_count": null,
      "outputs": [
        {
          "output_type": "display_data",
          "data": {
            "text/plain": [
              "<Figure size 640x480 with 1 Axes>"
            ],
            "image/png": "[encoded data removed]"
          },
          "metadata": {}
        }
      ]
    },
    {
      "cell_type": "code",
      "source": [
        "# Create a pipeline with scaler and logistic regression\n",
        "pipe = make_pipeline(StandardScaler(), LogisticRegression(max_iter=1000, solver='saga', tol=0.1))\n",
        "\n",
        "# Create a parameter grid\n",
        "param_grid = {\n",
        "    'logisticregression__C': [0.1, 0.5, 1, 10, 100],\n",
        "    'logisticregression__penalty': ['l1', 'l2']\n",
        "}\n",
        "\n",
        "# Create GridSearchCV object\n",
        "grid_search = GridSearchCV(pipe, param_grid, cv=5)\n",
        "\n",
        "# Fit the model\n",
        "grid_result = grid_search.fit(X_train, Y_train)"
      ],
      "metadata": {
        "id": "bBKOtosasRat"
      },
      "execution_count": null,
      "outputs": []
    },
    {
      "cell_type": "code",
      "source": [
        "# Print best parameters and best score\n",
        "print(\"Best Parameters:\", grid_search.best_params_)\n",
        "print(\"Best Score:\", grid_search.best_score_)"
      ],
      "metadata": {
        "colab": {
          "base_uri": "https://localhost:8080/"
        },
        "id": "yNIRQMobtclZ",
        "outputId": "5f8358cd-00c3-49f3-bc2e-758f0d9f230e"
      },
      "execution_count": null,
      "outputs": [
        {
          "output_type": "stream",
          "name": "stdout",
          "text": [
            "Best Parameters: {'logisticregression__C': 0.5, 'logisticregression__penalty': 'l1'}\n",
            "Best Score: 0.8512355277090554\n"
          ]
        }
      ]
    },
    {
      "cell_type": "code",
      "source": [
        "grid_opt = LogisticRegression(C=0.5, class_weight=None, dual=False,\n",
        "          fit_intercept=True, intercept_scaling=1, max_iter=100,\n",
        "          n_jobs=None, penalty='l1', random_state=None,\n",
        "          solver='saga', tol=0.1, verbose=0, warm_start=False).fit(X_train, Y_train)"
      ],
      "metadata": {
        "id": "FY_FeYL4uU61"
      },
      "execution_count": null,
      "outputs": []
    },
    {
      "cell_type": "code",
      "source": [
        "Y_Test_Pred = grid_opt.predict(X_test)"
      ],
      "metadata": {
        "id": "JcAoCpsrum6e"
      },
      "execution_count": null,
      "outputs": []
    },
    {
      "cell_type": "code",
      "source": [
        "y_pred_grid_opt = grid_opt.predict(X_test)\n",
        "print(classification_report(Y_Test_Pred, Y_test))"
      ],
      "metadata": {
        "colab": {
          "base_uri": "https://localhost:8080/"
        },
        "id": "fLb8xZ3runVr",
        "outputId": "62e6ceff-cfcf-4ede-b019-b2574abb3e99"
      },
      "execution_count": null,
      "outputs": [
        {
          "output_type": "stream",
          "name": "stdout",
          "text": [
            "              precision    recall  f1-score   support\n",
            "\n",
            "           0       0.00      0.53      0.01       162\n",
            "           1       1.00      0.85      0.92    190550\n",
            "\n",
            "    accuracy                           0.85    190712\n",
            "   macro avg       0.50      0.69      0.46    190712\n",
            "weighted avg       1.00      0.85      0.92    190712\n",
            "\n"
          ]
        }
      ]
    },
    {
      "cell_type": "code",
      "source": [
        "from sklearn.metrics import classification_report, confusion_matrix\n",
        "cm = confusion_matrix(Y_test,y_pred_grid_opt)\n",
        "print(cm)"
      ],
      "metadata": {
        "colab": {
          "base_uri": "https://localhost:8080/"
        },
        "id": "MCyPictnupq3",
        "outputId": "1143fbde-fc17-451a-839b-38e380747fd3"
      },
      "execution_count": null,
      "outputs": [
        {
          "output_type": "stream",
          "name": "stdout",
          "text": [
            "[[    86  28085]\n",
            " [    76 162465]]\n"
          ]
        }
      ]
    },
    {
      "cell_type": "code",
      "source": [
        "from sklearn.metrics import balanced_accuracy_score\n",
        "balanced_accuracy_score(Y_Test_Pred, Y_test)"
      ],
      "metadata": {
        "colab": {
          "base_uri": "https://localhost:8080/"
        },
        "id": "cyCcvb3ivzrR",
        "outputId": "2339e8d4-643e-4a6f-f3b5-1b7c04d54907"
      },
      "execution_count": null,
      "outputs": [
        {
          "output_type": "execute_result",
          "data": {
            "text/plain": [
              "0.6917375304106697"
            ]
          },
          "metadata": {},
          "execution_count": 35
        }
      ]
    },
    {
      "cell_type": "markdown",
      "source": [
        "**With Sampling using SMOTE techmique**\n",
        "\n",
        "1.   List item\n",
        "2.   List item\n",
        "\n",
        "\n",
        "\n",
        "---\n",
        "\n"
      ],
      "metadata": {
        "id": "P1oD9rFawT0R"
      }
    },
    {
      "cell_type": "code",
      "source": [
        "from imblearn.over_sampling import SMOTE"
      ],
      "metadata": {
        "id": "BMtffuGawFMx"
      },
      "execution_count": null,
      "outputs": []
    },
    {
      "cell_type": "code",
      "source": [
        "sm = SMOTE(random_state=200, sampling_strategy= 0.6)\n",
        "x_train_res, y_train_res = sm.fit_resample(X_train, Y_train)"
      ],
      "metadata": {
        "id": "pD4uFM4TwcTA"
      },
      "execution_count": null,
      "outputs": []
    },
    {
      "cell_type": "code",
      "source": [
        "unique, count = np.unique(y_train_res, return_counts=True)\n",
        "y_train_smote_value_count = { k:v for (k,v) in zip(unique, count)}\n",
        "y_train_smote_value_count"
      ],
      "metadata": {
        "colab": {
          "base_uri": "https://localhost:8080/"
        },
        "id": "C4LCMuHrwe7v",
        "outputId": "f8156c48-c11b-4d04-d29f-283020cb1c1c"
      },
      "execution_count": null,
      "outputs": [
        {
          "output_type": "execute_result",
          "data": {
            "text/plain": [
              "{0: 227271, 1: 378785}"
            ]
          },
          "metadata": {},
          "execution_count": 70
        }
      ]
    },
    {
      "cell_type": "code",
      "source": [
        "clf = LogisticRegression(solver='saga').fit(x_train_res, y_train_res)"
      ],
      "metadata": {
        "id": "kBT5VAc5wjQ6"
      },
      "execution_count": null,
      "outputs": []
    },
    {
      "cell_type": "code",
      "source": [
        "Y_Test_Pred = clf.predict(X_test)"
      ],
      "metadata": {
        "id": "vhCI7G7FwrQb"
      },
      "execution_count": null,
      "outputs": []
    },
    {
      "cell_type": "code",
      "source": [
        "generate_model_report(Y_test, Y_Test_Pred)"
      ],
      "metadata": {
        "colab": {
          "base_uri": "https://localhost:8080/"
        },
        "id": "aGaVkWqUyMJc",
        "outputId": "eed0f860-3a48-43da-cfc1-ba5f1956113d"
      },
      "execution_count": null,
      "outputs": [
        {
          "output_type": "stream",
          "name": "stdout",
          "text": [
            "Accuracy =  0.7270019715592096\n",
            "Precision =  0.8796643137470531\n",
            "Recall =  0.787401332586855\n",
            "F1 Score =  0.8309796970464299\n"
          ]
        }
      ]
    },
    {
      "cell_type": "code",
      "source": [
        "generate_auc_roc_curve(clf, X_test)"
      ],
      "metadata": {
        "colab": {
          "base_uri": "https://localhost:8080/",
          "height": 430
        },
        "id": "xfoWIbGMyMlW",
        "outputId": "ec0b62b5-9c11-41dc-c446-997379738819"
      },
      "execution_count": null,
      "outputs": [
        {
          "output_type": "display_data",
          "data": {
            "text/plain": [
              "<Figure size 640x480 with 1 Axes>"
            ],
            "image/png": "[encoded data removed]"
          },
          "metadata": {}
        }
      ]
    },
    {
      "cell_type": "markdown",
      "source": [
        "Optimizing using grid search method for best parameters"
      ],
      "metadata": {
        "id": "61sBvcdeyjds"
      }
    },
    {
      "cell_type": "code",
      "source": [
        "# Create a pipeline with scaler and logistic regression\n",
        "pipe = make_pipeline(StandardScaler(), LogisticRegression(max_iter=1000, solver='saga', tol=0.1))\n",
        "\n",
        "# Create a parameter grid\n",
        "param_grid = {\n",
        "    'logisticregression__C': [0.1, 0.5, 1, 10, 100],\n",
        "    'logisticregression__penalty': ['l1', 'l2']\n",
        "}\n",
        "\n",
        "# Create GridSearchCV object\n",
        "grid_search = GridSearchCV(pipe, param_grid, cv=5)\n",
        "\n",
        "# Fit the model\n",
        "grid_result = grid_search.fit(x_train_res, y_train_res)"
      ],
      "metadata": {
        "id": "Cq7yWUI9yitT"
      },
      "execution_count": null,
      "outputs": []
    },
    {
      "cell_type": "code",
      "source": [
        "# Print best parameters and best score\n",
        "print(\"Best Parameters:\", grid_search.best_params_)\n",
        "print(\"Best Score:\", grid_search.best_score_)"
      ],
      "metadata": {
        "colab": {
          "base_uri": "https://localhost:8080/"
        },
        "id": "SYvHVZKUynnf",
        "outputId": "3e179ad2-9833-48e7-b8c1-7cf5336599b2"
      },
      "execution_count": null,
      "outputs": [
        {
          "output_type": "stream",
          "name": "stdout",
          "text": [
            "Best Parameters: {'logisticregression__C': 100, 'logisticregression__penalty': 'l1'}\n",
            "Best Score: 0.6420165768772743\n"
          ]
        }
      ]
    },
    {
      "cell_type": "code",
      "source": [
        "opt_clf = LogisticRegression(solver='saga',C=100, penalty ='l1').fit(x_train_res, y_train_res)"
      ],
      "metadata": {
        "id": "t42BMckNj0d_"
      },
      "execution_count": null,
      "outputs": []
    },
    {
      "cell_type": "code",
      "source": [
        "opt_Y_Test_Pred = opt_clf.predict(X_test)"
      ],
      "metadata": {
        "id": "jRH-ESCekYNH"
      },
      "execution_count": null,
      "outputs": []
    },
    {
      "cell_type": "code",
      "source": [
        "generate_model_report(Y_test, opt_Y_Test_Pred)"
      ],
      "metadata": {
        "colab": {
          "base_uri": "https://localhost:8080/"
        },
        "id": "4xZ-pq6rk3a5",
        "outputId": "22cbe7be-3b70-40e7-c5e7-58eda4ac6be7"
      },
      "execution_count": null,
      "outputs": [
        {
          "output_type": "stream",
          "name": "stdout",
          "text": [
            "Accuracy =  0.8091205587482696\n",
            "Precision =  0.8672054217077914\n",
            "Recall =  0.9163595646636848\n",
            "F1 Score =  0.8911051616087587\n"
          ]
        }
      ]
    },
    {
      "cell_type": "code",
      "source": [
        "from sklearn.metrics import classification_report, confusion_matrix\n",
        "\n",
        "cm = confusion_matrix(y_test,opt_Y_Test_Pred)\n",
        "print(cm)"
      ],
      "metadata": {
        "id": "SQay8ASlJlFb"
      },
      "execution_count": null,
      "outputs": []
    },
    {
      "cell_type": "code",
      "source": [
        "print(classification_report(opt_Y_Test_Pred, Y_test))"
      ],
      "metadata": {
        "colab": {
          "base_uri": "https://localhost:8080/"
        },
        "id": "b21yWHLQlFTM",
        "outputId": "2c06fc50-a36f-4087-e4e7-33f550d7150e"
      },
      "execution_count": null,
      "outputs": [
        {
          "output_type": "stream",
          "name": "stdout",
          "text": [
            "              precision    recall  f1-score   support\n",
            "\n",
            "           0       0.19      0.28      0.23     18958\n",
            "           1       0.92      0.87      0.89    171754\n",
            "\n",
            "    accuracy                           0.81    190712\n",
            "   macro avg       0.55      0.58      0.56    190712\n",
            "weighted avg       0.84      0.81      0.83    190712\n",
            "\n"
          ]
        }
      ]
    }
  ]
}